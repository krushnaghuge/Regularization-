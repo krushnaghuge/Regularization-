{
 "cells": [
  {
   "cell_type": "markdown",
   "metadata": {},
   "source": [
    "## ElasticNet Regression \n",
    "ElasticNet regularization applies both L1-norm and L2-norm regularization to penalize the coefficients in a regression model. I we'll learn how to use sklearn's ElasticNet and ElasticNetCV models to analyze regression data. The post covers:\n",
    "\n",
    "    Preparing data\n",
    "    Best alpha\n",
    "    Defining model and checking the results\n",
    "    Cross-validation with ElasticNetCV"
   ]
  },
  {
   "cell_type": "code",
   "execution_count": 1,
   "metadata": {},
   "outputs": [],
   "source": [
    "from sklearn.linear_model import ElasticNet,ElasticNetCV\n",
    "from sklearn.metrics import mean_squared_error\n",
    "from sklearn.model_selection import train_test_split\n",
    "import matplotlib.pyplot as plt\n",
    "import numpy as np\n",
    "import pandas as pd"
   ]
  },
  {
   "cell_type": "code",
   "execution_count": 2,
   "metadata": {},
   "outputs": [
    {
     "name": "stdout",
     "output_type": "stream",
     "text": [
      "<class 'pandas.core.frame.DataFrame'>\n",
      "RangeIndex: 25 entries, 0 to 24\n",
      "Data columns (total 10 columns):\n",
      " #   Column          Non-Null Count  Dtype  \n",
      "---  ------          --------------  -----  \n",
      " 0   Unnamed: 0      25 non-null     int64  \n",
      " 1   cost            25 non-null     float64\n",
      " 2   capitalcost     25 non-null     float64\n",
      " 3   laborcost       25 non-null     float64\n",
      " 4   energycost      25 non-null     float64\n",
      " 5   materialscost   25 non-null     float64\n",
      " 6   capitalprice    25 non-null     float64\n",
      " 7   laborprice      25 non-null     float64\n",
      " 8   energyprice     25 non-null     float64\n",
      " 9   materialsprice  25 non-null     float64\n",
      "dtypes: float64(9), int64(1)\n",
      "memory usage: 2.1 KB\n",
      "None\n"
     ]
    }
   ],
   "source": [
    "# Read the data\n",
    "df=pd.read_csv(\"C:/practice datasets/ManufactCosts.csv\")\n",
    "print(df.info())\n",
    "x=df.iloc[:,2:]\n",
    "y=df.iloc[:,1]\n"
   ]
  },
  {
   "cell_type": "code",
   "execution_count": 3,
   "metadata": {},
   "outputs": [],
   "source": [
    "# split the data\n",
    "xtrain, xtest, ytrain, ytest = train_test_split(x, y, test_size=0.15)"
   ]
  },
  {
   "cell_type": "code",
   "execution_count": 4,
   "metadata": {},
   "outputs": [],
   "source": [
    "#To figure out what alpha value is good for our model, we'll define multiple values and check the performance accuracy.\n",
    "\n",
    "alphas = [0.0001, 0.001, 0.01, 0.1, 0.3, 0.5, 0.7, 1]"
   ]
  },
  {
   "cell_type": "code",
   "execution_count": 5,
   "metadata": {},
   "outputs": [
    {
     "name": "stdout",
     "output_type": "stream",
     "text": [
      "Alpha:0.0001, R2:0.99, MSE:212.70, RMSE:14.58\n",
      "Alpha:0.0010, R2:0.99, MSE:272.02, RMSE:16.49\n",
      "Alpha:0.0100, R2:0.98, MSE:369.18, RMSE:19.21\n",
      "Alpha:0.1000, R2:0.95, MSE:964.97, RMSE:31.06\n",
      "Alpha:0.3000, R2:0.85, MSE:3048.36, RMSE:55.21\n",
      "Alpha:0.5000, R2:0.75, MSE:5119.29, RMSE:71.55\n",
      "Alpha:0.7000, R2:0.66, MSE:6863.19, RMSE:82.84\n",
      "Alpha:1.0000, R2:0.56, MSE:8909.42, RMSE:94.39\n"
     ]
    }
   ],
   "source": [
    "#we'll check the R-squared, MSE, and RMSE metrics for each alpha.\n",
    "\n",
    "for a in alphas:\n",
    "    model = ElasticNet(alpha=a).fit(x,y)   \n",
    "    score = model.score(x, y)\n",
    "    pred_y = model.predict(x)\n",
    "    mse = mean_squared_error(y, pred_y)   \n",
    "    print(\"Alpha:{0:.4f}, R2:{1:.2f}, MSE:{2:.2f}, RMSE:{3:.2f}\"\n",
    "       .format(a, score, mse, np.sqrt(mse)))"
   ]
  },
  {
   "cell_type": "markdown",
   "metadata": {},
   "source": [
    "The result shows that we can use 0.01 value for our model.\n",
    "\n",
    "\n",
    "Defining model and checking the results\n",
    "\n",
    "Now, we can define ElasticNet regression model with an alpha value taken above and fit it with xtrain and ytrain data. Then we'll predict xtest data and check the model accuracy."
   ]
  },
  {
   "cell_type": "code",
   "execution_count": 6,
   "metadata": {},
   "outputs": [
    {
     "name": "stdout",
     "output_type": "stream",
     "text": [
      "R2:0.975, MSE:446.27, RMSE:21.13\n"
     ]
    }
   ],
   "source": [
    "elastic=ElasticNet(alpha=0.01).fit(xtrain, ytrain)\n",
    "ypred = elastic.predict(xtest)\n",
    "score = elastic.score(xtest, ytest)\n",
    "mse = mean_squared_error(ytest, ypred)\n",
    "print(\"R2:{0:.3f}, MSE:{1:.2f}, RMSE:{2:.2f}\"\n",
    "      .format(score, mse, np.sqrt(mse)))"
   ]
  },
  {
   "cell_type": "code",
   "execution_count": 7,
   "metadata": {},
   "outputs": [
    {
     "data": {
      "text/plain": [
       "<matplotlib.legend.Legend at 0x234ed8978e0>"
      ]
     },
     "execution_count": 7,
     "metadata": {},
     "output_type": "execute_result"
    },
    {
     "data": {
      "image/png": "[encoded data removed]",
      "text/plain": [
       "<Figure size 432x288 with 1 Axes>"
      ]
     },
     "metadata": {
      "needs_background": "light"
     },
     "output_type": "display_data"
    }
   ],
   "source": [
    "x_ax = range(len(xtest))\n",
    "plt.scatter(x_ax, ytest, s=5, color=\"blue\", label=\"original\")\n",
    "plt.plot(x_ax, ypred, lw=0.8, color=\"red\", label=\"predicted\")\n",
    "plt.legend()"
   ]
  },
  {
   "cell_type": "markdown",
   "metadata": {},
   "source": [
    "Cross-validation with ElasticNetCV\n",
    "\n",
    "ElasticNetCV is a cross-validation class that can search multiple alpha values and applies the best one. We'll define the model with alphas value and fit it with xtrain and ytrain data.\n"
   ]
  },
  {
   "cell_type": "code",
   "execution_count": 8,
   "metadata": {},
   "outputs": [
    {
     "name": "stdout",
     "output_type": "stream",
     "text": [
      "0.01\n",
      "-187.7321288274859\n"
     ]
    }
   ],
   "source": [
    "elastic_cv=ElasticNetCV(alphas=alphas, cv=5)\n",
    "model = elastic_cv.fit(xtrain, ytrain)\n",
    "print(model.alpha_)\n",
    "print(model.intercept_)"
   ]
  },
  {
   "cell_type": "markdown",
   "metadata": {},
   "source": [
    "We can predict xtest data and check the accuracy metrics."
   ]
  },
  {
   "cell_type": "code",
   "execution_count": 9,
   "metadata": {},
   "outputs": [
    {
     "name": "stdout",
     "output_type": "stream",
     "text": [
      "R2:0.975, MSE:446.27, RMSE:21.13\n"
     ]
    }
   ],
   "source": [
    "ypred = model.predict(xtest)\n",
    "score = model.score(xtest, ytest)\n",
    "mse = mean_squared_error(ytest, ypred)\n",
    "print(\"R2:{0:.3f}, MSE:{1:.2f}, RMSE:{2:.2f}\"\n",
    "      .format(score, mse, np.sqrt(mse)))"
   ]
  },
  {
   "cell_type": "code",
   "execution_count": null,
   "metadata": {},
   "outputs": [],
   "source": []
  }
 ],
 "metadata": {
  "kernelspec": {
   "display_name": "Python 3",
   "language": "python",
   "name": "python3"
  },
  "language_info": {
   "codemirror_mode": {
    "name": "ipython",
    "version": 3
   },
   "file_extension": ".py",
   "mimetype": "text/x-python",
   "name": "python",
   "nbconvert_exporter": "python",
   "pygments_lexer": "ipython3",
   "version": "3.8.5"
  }
 },
 "nbformat": 4,
 "nbformat_minor": 4
}
